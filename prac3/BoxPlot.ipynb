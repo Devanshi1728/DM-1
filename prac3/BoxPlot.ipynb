{
 "cells": [
  {
   "cell_type": "code",
   "execution_count": 6,
   "metadata": {},
   "outputs": [],
   "source": [
    "import pandas as pd\n",
    "import numpy as np\n",
    "import seaborn as sns\n",
    "import matplotlib.pyplot as plt\n",
    "\n",
    "data = [4,55,21,33,5,92,33,5,91,33,9,29,99,105,39,45,6,62,65,25,10,73,85,11,79,20,56,45,21,8,65,70,30]\n"
   ]
  },
  {
   "cell_type": "code",
   "execution_count": 26,
   "metadata": {},
   "outputs": [
    {
     "data": {
      "text/plain": [
       "<matplotlib.axes._subplots.AxesSubplot at 0x1ecaf713c18>"
      ]
     },
     "execution_count": 26,
     "metadata": {},
     "output_type": "execute_result"
    },
    {
     "data": {
      "image/png": "[encoded data removed]",
      "text/plain": [
       "<Figure size 432x288 with 1 Axes>"
      ]
     },
     "metadata": {
      "needs_background": "light"
     },
     "output_type": "display_data"
    }
   ],
   "source": [
    "sns.boxplot(data=data)\n",
    "sns.swarmplot(data=data,color='black')"
   ]
  },
  {
   "cell_type": "code",
   "execution_count": 16,
   "metadata": {},
   "outputs": [
    {
     "name": "stdout",
     "output_type": "stream",
     "text": [
      "median =  33.0\n"
     ]
    }
   ],
   "source": [
    "print(\"median = \",np.quantile(data,.50))"
   ]
  },
  {
   "cell_type": "code",
   "execution_count": 9,
   "metadata": {},
   "outputs": [
    {
     "name": "stdout",
     "output_type": "stream",
     "text": [
      "Minimum =  4\n"
     ]
    }
   ],
   "source": [
    "minimum = min(data)\n",
    "print(\"Minimum = \",minimum)"
   ]
  },
  {
   "cell_type": "code",
   "execution_count": 11,
   "metadata": {},
   "outputs": [
    {
     "name": "stdout",
     "output_type": "stream",
     "text": [
      "Maximum =  105\n"
     ]
    }
   ],
   "source": [
    "maximum = max(data)\n",
    "print(\"Maximum = \",maximum)"
   ]
  },
  {
   "cell_type": "code",
   "execution_count": 20,
   "metadata": {},
   "outputs": [
    {
     "name": "stdout",
     "output_type": "stream",
     "text": [
      "Q1 =  20.0\n",
      "Q3 =  65.0\n"
     ]
    }
   ],
   "source": [
    "Q1 = np.quantile(data,.25)\n",
    "print(\"Q1 = \",Q1)\n",
    "\n",
    "Q3 = np.quantile(data,.75)\n",
    "print(\"Q3 = \",Q3)\n"
   ]
  },
  {
   "cell_type": "code",
   "execution_count": 22,
   "metadata": {},
   "outputs": [
    {
     "name": "stdout",
     "output_type": "stream",
     "text": [
      "IQR =  45.0\n"
     ]
    }
   ],
   "source": [
    " IQR = Q3 - Q1 \n",
    "print(\"IQR = \",IQR)"
   ]
  },
  {
   "cell_type": "code",
   "execution_count": 24,
   "metadata": {},
   "outputs": [
    {
     "name": "stdout",
     "output_type": "stream",
     "text": [
      "Maximum =  132.5\n",
      "Minimum =  -47.5\n"
     ]
    }
   ],
   "source": [
    "maximum = Q3 + 1.5*IQR\n",
    "print(\"Maximum = \",maximum)\n",
    "\n",
    "minimum = Q1 - 1.5*IQR\n",
    "print(\"Minimum = \",minimum)"
   ]
  },
  {
   "cell_type": "code",
   "execution_count": null,
   "metadata": {},
   "outputs": [],
   "source": []
  }
 ],
 "metadata": {
  "kernelspec": {
   "display_name": "Python 3",
   "language": "python",
   "name": "python3"
  },
  "language_info": {
   "codemirror_mode": {
    "name": "ipython",
    "version": 3
   },
   "file_extension": ".py",
   "mimetype": "text/x-python",
   "name": "python",
   "nbconvert_exporter": "python",
   "pygments_lexer": "ipython3",
   "version": "3.7.1"
  }
 },
 "nbformat": 4,
 "nbformat_minor": 2
}
